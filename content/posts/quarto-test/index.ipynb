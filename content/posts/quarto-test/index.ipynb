{
 "cells": [
  {
   "cell_type": "raw",
   "id": "dc0704db-b9ef-451e-995c-77ef302686be",
   "metadata": {},
   "source": [
    "---\n",
    "title: What kind of cars do Finns drive?\n",
    "date: \"2022-08-05\"\n",
    "tags:\n",
    " - development\n",
    " - communication\n",
    " - data\n",
    "categories: \n",
    " - Development\n",
    " - Communication\n",
    " - Data\n",
    "format: hugo\n",
    "jupyter: python3\n",
    "---"
   ]
  },
  {
   "cell_type": "markdown",
   "id": "d63fe13c-4468-45bb-a1a7-65edcb54e658",
   "metadata": {
    "tags": []
   },
   "source": [
    "### Cars in Finland\n",
    "\n",
    "The Finnish Transport and Communications Agency [Traficom](https://www.traficom.fi/en/) shares some open datasets on their website. Here we are going to be looking at [open data for vehicles](https://www.traficom.fi/en/news/open-data?toggle=Open%20data%20for%20vehicles).\n",
    "\n",
    "Maybe we can learn something about the cars people drive in Finland?"
   ]
  },
  {
   "cell_type": "markdown",
   "id": "8be337f4-ed98-423f-a890-5d55e0812b84",
   "metadata": {},
   "source": [
    "### Start with the mandatory imports"
   ]
  },
  {
   "cell_type": "markdown",
   "id": "135b6846-d2b1-45d5-b5b5-47f1262a1177",
   "metadata": {},
   "source": [
    "I will be using Pandas for processing the data and Seaborn-Matplotlib combo for any visualizations."
   ]
  },
  {
   "cell_type": "code",
   "execution_count": 197,
   "id": "c051c34e-8668-496c-a0e3-59fa40d9de54",
   "metadata": {},
   "outputs": [],
   "source": [
    "import pandas as pd\n",
    "import matplotlib.pyplot as plt\n",
    "import seaborn as sns\n",
    "\n",
    "sns.set_theme()\n",
    "sns.set_style('darkgrid')\n",
    "sns.set_context('notebook')"
   ]
  },
  {
   "cell_type": "markdown",
   "id": "80589d6a-3d7b-4e93-a0b5-8208375b2520",
   "metadata": {
    "tags": []
   },
   "source": [
    "### Load the data\n",
    "\n",
    "At the moment of writing, the latest vehicles dataset is a CSV file of 981 MB (200 MB when compressed to a ZIP file). It was published 2022-06-21, just in time for Juhannus! \n",
    "\n",
    "Loading the data into a Pandas DataFrame is quite easy and painless."
   ]
  },
  {
   "cell_type": "code",
   "execution_count": 198,
   "id": "54c372c8-4c70-4a6f-8a51-ba8b8118e834",
   "metadata": {},
   "outputs": [
    {
     "name": "stdout",
     "output_type": "stream",
     "text": [
      "<class 'pandas.core.frame.DataFrame'>\n",
      "RangeIndex: 5236787 entries, 0 to 5236786\n",
      "Data columns (total 38 columns):\n",
      " #   Column                     Dtype  \n",
      "---  ------                     -----  \n",
      " 0   ajoneuvoluokka             object \n",
      " 1   ensirekisterointipvm       object \n",
      " 2   ajoneuvoryhma              float64\n",
      " 3   ajoneuvonkaytto            float64\n",
      " 4   variantti                  object \n",
      " 5   versio                     object \n",
      " 6   kayttoonottopvm            int64  \n",
      " 7   vari                       object \n",
      " 8   ovienLukumaara             float64\n",
      " 9   korityyppi                 object \n",
      " 10  ohjaamotyyppi              float64\n",
      " 11  istumapaikkojenLkm         float64\n",
      " 12  omamassa                   float64\n",
      " 13  teknSuurSallKokmassa       float64\n",
      " 14  tieliikSuurSallKokmassa    float64\n",
      " 15  ajonKokPituus              float64\n",
      " 16  ajonLeveys                 float64\n",
      " 17  ajonKorkeus                float64\n",
      " 18  kayttovoima                object \n",
      " 19  iskutilavuus               float64\n",
      " 20  suurinNettoteho            float64\n",
      " 21  sylintereidenLkm           float64\n",
      " 22  ahdin                      object \n",
      " 23  sahkohybridi               object \n",
      " 24  sahkohybridinluokka        float64\n",
      " 25  merkkiSelvakielinen        object \n",
      " 26  mallimerkinta              object \n",
      " 27  vaihteisto                 object \n",
      " 28  vaihteidenLkm              float64\n",
      " 29  kaupallinenNimi            object \n",
      " 30  voimanvalJaTehostamistapa  float64\n",
      " 31  tyyppihyvaksyntanro        object \n",
      " 32  yksittaisKayttovoima       object \n",
      " 33  kunta                      float64\n",
      " 34  Co2                        float64\n",
      " 35  matkamittarilukema         float64\n",
      " 36  valmistenumero2            object \n",
      " 37  jarnro                     int64  \n",
      "dtypes: float64(20), int64(2), object(16)\n",
      "memory usage: 1.5+ GB\n"
     ]
    }
   ],
   "source": [
    "df = pd.read_csv(\n",
    "    'https://opendata.traficom.fi/Content/Ajoneuvorekisteri.zip',\n",
    "    encoding='latin-1',\n",
    "    sep=';',\n",
    "    low_memory=False)\n",
    "df.info()"
   ]
  },
  {
   "cell_type": "markdown",
   "id": "8c41e6a8-9c24-4a5a-b33e-b0f5df73b1c6",
   "metadata": {},
   "source": [
    "It looks like more than five million vehicles have been registered in Finland. There's a total of 38 columns in the data but the column names are in – no, that is not some mysterious demon language – Finnish, of course! \n",
    "\n",
    "Luckily Traficom shares a description of the columns and what's inside them in an additional Excel file. Descriptions are offered in Finnish, Swedish, and English. \n",
    "\n",
    "Reading the metadata with Pandas is easy. For brevity, I'll show here just the first five rows."
   ]
  },
  {
   "cell_type": "code",
   "execution_count": 199,
   "id": "fbe303cb-69d9-415b-8095-cf70bf1db1c2",
   "metadata": {},
   "outputs": [
    {
     "data": {
      "text/html": [
       "<div>\n",
       "<style scoped>\n",
       "    .dataframe tbody tr th:only-of-type {\n",
       "        vertical-align: middle;\n",
       "    }\n",
       "\n",
       "    .dataframe tbody tr th {\n",
       "        vertical-align: top;\n",
       "    }\n",
       "\n",
       "    .dataframe thead th {\n",
       "        text-align: right;\n",
       "    }\n",
       "</style>\n",
       "<table border=\"1\" class=\"dataframe\">\n",
       "  <thead>\n",
       "    <tr style=\"text-align: right;\">\n",
       "      <th></th>\n",
       "      <th>tieto</th>\n",
       "      <th>kuvaus</th>\n",
       "      <th>Beskrivning</th>\n",
       "      <th>Description in brief</th>\n",
       "    </tr>\n",
       "  </thead>\n",
       "  <tbody>\n",
       "    <tr>\n",
       "      <th>0</th>\n",
       "      <td>ajoneuvoluokka</td>\n",
       "      <td>Ajoneuvon direktiivin mukainen luokittelu.</td>\n",
       "      <td>Fordons klassificering enligt direktivet</td>\n",
       "      <td>Vehicle classification according to the direct...</td>\n",
       "    </tr>\n",
       "    <tr>\n",
       "      <th>1</th>\n",
       "      <td>ensirekisterointipvm</td>\n",
       "      <td>Ajoneuvon ensirekisteröintipäivä.</td>\n",
       "      <td>Datum för första registrering</td>\n",
       "      <td>Date of first registration</td>\n",
       "    </tr>\n",
       "    <tr>\n",
       "      <th>2</th>\n",
       "      <td>ajoneuvoryhma</td>\n",
       "      <td>Ajoneuvoluokkaa tarkempi luokittelu ajoneuvoille</td>\n",
       "      <td>Mer exakt klassificering för fordon</td>\n",
       "      <td>More accurate classification for vehicles</td>\n",
       "    </tr>\n",
       "    <tr>\n",
       "      <th>3</th>\n",
       "      <td>ajoneuvonkaytto</td>\n",
       "      <td>Ajoneuvon käyttötieto.</td>\n",
       "      <td>Information om fordonsanvändning</td>\n",
       "      <td>Vehicle usage information</td>\n",
       "    </tr>\n",
       "    <tr>\n",
       "      <th>4</th>\n",
       "      <td>variantti</td>\n",
       "      <td>Ajoneuvon variantin yksilöivä tunniste</td>\n",
       "      <td>Unik identifierare för fordonets variant</td>\n",
       "      <td>Unique identifier of the vehicle variant</td>\n",
       "    </tr>\n",
       "  </tbody>\n",
       "</table>\n",
       "</div>"
      ],
      "text/plain": [
       "                  tieto                                            kuvaus  \\\n",
       "0        ajoneuvoluokka        Ajoneuvon direktiivin mukainen luokittelu.   \n",
       "1  ensirekisterointipvm                 Ajoneuvon ensirekisteröintipäivä.   \n",
       "2         ajoneuvoryhma  Ajoneuvoluokkaa tarkempi luokittelu ajoneuvoille   \n",
       "3       ajoneuvonkaytto                            Ajoneuvon käyttötieto.   \n",
       "4             variantti            Ajoneuvon variantin yksilöivä tunniste   \n",
       "\n",
       "                                Beskrivning  \\\n",
       "0  Fordons klassificering enligt direktivet   \n",
       "1             Datum för första registrering   \n",
       "2       Mer exakt klassificering för fordon   \n",
       "3          Information om fordonsanvändning   \n",
       "4  Unik identifierare för fordonets variant   \n",
       "\n",
       "                                Description in brief  \n",
       "0  Vehicle classification according to the direct...  \n",
       "1                         Date of first registration  \n",
       "2          More accurate classification for vehicles  \n",
       "3                          Vehicle usage information  \n",
       "4           Unique identifier of the vehicle variant  "
      ]
     },
     "execution_count": 199,
     "metadata": {},
     "output_type": "execute_result"
    }
   ],
   "source": [
    "column_info = pd.read_excel(\n",
    "    'https://www.traficom.fi/sites/default/files/media/file/Ajoneuvotiedot_avoin_data_luokitukset_22_02_2022.xlsx',\n",
    "    sheet_name='MUUTTUJALUETTELO',\n",
    "    usecols=[1, 2, 3, 4],\n",
    "    skiprows=3)\n",
    "column_info.head(5)"
   ]
  },
  {
   "cell_type": "markdown",
   "id": "188c9c0c-34f2-47c6-be28-cc1f6a5ec436",
   "metadata": {},
   "source": [
    "The metadata table does not provide us with an easy mapping between the Finnish and English names, so I will not rename the columns. Nevertheless, the metadata can serve as a handy reference for the non-Finnish speakers.\n",
    "\n",
    "As mentioned before, the same Excel also contains explanations for the values found in the columns. For example `ajoneuvoluokka` or vehicle classification should have this kind of values (again showing just the first five rows for brevity):"
   ]
  },
  {
   "cell_type": "code",
   "execution_count": 200,
   "id": "a9c92500-34f9-4f3d-9bdb-57f7239c1f55",
   "metadata": {},
   "outputs": [
    {
     "data": {
      "text/html": [
       "<div>\n",
       "<style scoped>\n",
       "    .dataframe tbody tr th:only-of-type {\n",
       "        vertical-align: middle;\n",
       "    }\n",
       "\n",
       "    .dataframe tbody tr th {\n",
       "        vertical-align: top;\n",
       "    }\n",
       "\n",
       "    .dataframe thead th {\n",
       "        text-align: right;\n",
       "    }\n",
       "</style>\n",
       "<table border=\"1\" class=\"dataframe\">\n",
       "  <thead>\n",
       "    <tr style=\"text-align: right;\">\n",
       "      <th></th>\n",
       "      <th>KOODINTUNNUS</th>\n",
       "      <th>LYHYTSELITE</th>\n",
       "      <th>PITKASELITE</th>\n",
       "      <th>LYHYTSELITE_sv</th>\n",
       "      <th>PITKASELITE_sv</th>\n",
       "      <th>LYHYTSELITE_en</th>\n",
       "      <th>PITKASELITE_en</th>\n",
       "    </tr>\n",
       "  </thead>\n",
       "  <tbody>\n",
       "    <tr>\n",
       "      <th>0</th>\n",
       "      <td>C1</td>\n",
       "      <td>Traktori</td>\n",
       "      <td>Telaketjutraktori, v &lt;= 40 km/h, m &gt; 600 kg, m...</td>\n",
       "      <td>Traktor</td>\n",
       "      <td>Bandtraktor, v &lt;= 40 km/h, m &gt; 600 kg, markfri...</td>\n",
       "      <td>Tractor</td>\n",
       "      <td>Tractor</td>\n",
       "    </tr>\n",
       "    <tr>\n",
       "      <th>1</th>\n",
       "      <td>C2</td>\n",
       "      <td>Traktori</td>\n",
       "      <td>Telaketjutraktori, v &lt;= 40 km/h, m &gt; 600 kg, m...</td>\n",
       "      <td>Traktor</td>\n",
       "      <td>Bandtraktor, v &lt;= 40 km/h, m &gt; 600 kg, markfri...</td>\n",
       "      <td>Tractor</td>\n",
       "      <td>Tractor</td>\n",
       "    </tr>\n",
       "    <tr>\n",
       "      <th>2</th>\n",
       "      <td>C3</td>\n",
       "      <td>Traktori</td>\n",
       "      <td>Telaketjutraktori, v &lt;= 40 km/h, m &lt;= 600 kg</td>\n",
       "      <td>Traktor</td>\n",
       "      <td>Bandtraktor, v &lt;= 40 km/h, m &lt;= 600 kg</td>\n",
       "      <td>Tractor</td>\n",
       "      <td>Tractor</td>\n",
       "    </tr>\n",
       "    <tr>\n",
       "      <th>3</th>\n",
       "      <td>C4</td>\n",
       "      <td>Traktori</td>\n",
       "      <td>Erityiskäyttöön tarkoitettu telaketjutraktori,...</td>\n",
       "      <td>Traktor</td>\n",
       "      <td>Bandtraktor konstruerad för ett särskilt ändam...</td>\n",
       "      <td>Tractor</td>\n",
       "      <td>Tractor</td>\n",
       "    </tr>\n",
       "    <tr>\n",
       "      <th>4</th>\n",
       "      <td>C5</td>\n",
       "      <td>Traktori</td>\n",
       "      <td>Telaketjutraktori, v &gt; 40 km/h</td>\n",
       "      <td>Traktor</td>\n",
       "      <td>Bandtraktor, v &gt; 40 km/h</td>\n",
       "      <td>Tractor</td>\n",
       "      <td>Tractor</td>\n",
       "    </tr>\n",
       "  </tbody>\n",
       "</table>\n",
       "</div>"
      ],
      "text/plain": [
       "  KOODINTUNNUS LYHYTSELITE                                        PITKASELITE  \\\n",
       "0           C1    Traktori  Telaketjutraktori, v <= 40 km/h, m > 600 kg, m...   \n",
       "1           C2    Traktori  Telaketjutraktori, v <= 40 km/h, m > 600 kg, m...   \n",
       "2           C3    Traktori       Telaketjutraktori, v <= 40 km/h, m <= 600 kg   \n",
       "3           C4    Traktori  Erityiskäyttöön tarkoitettu telaketjutraktori,...   \n",
       "4           C5    Traktori                     Telaketjutraktori, v > 40 km/h   \n",
       "\n",
       "  LYHYTSELITE_sv                                     PITKASELITE_sv  \\\n",
       "0        Traktor  Bandtraktor, v <= 40 km/h, m > 600 kg, markfri...   \n",
       "1        Traktor  Bandtraktor, v <= 40 km/h, m > 600 kg, markfri...   \n",
       "2        Traktor             Bandtraktor, v <= 40 km/h, m <= 600 kg   \n",
       "3        Traktor  Bandtraktor konstruerad för ett särskilt ändam...   \n",
       "4        Traktor                           Bandtraktor, v > 40 km/h   \n",
       "\n",
       "  LYHYTSELITE_en PITKASELITE_en  \n",
       "0        Tractor        Tractor  \n",
       "1        Tractor        Tractor  \n",
       "2        Tractor        Tractor  \n",
       "3        Tractor        Tractor  \n",
       "4        Tractor        Tractor  "
      ]
     },
     "execution_count": 200,
     "metadata": {},
     "output_type": "execute_result"
    }
   ],
   "source": [
    "vehicle_classification = pd.read_excel(\n",
    "    'https://www.traficom.fi/sites/default/files/media/file/Ajoneuvotiedot_avoin_data_luokitukset_22_02_2022.xlsx',\n",
    "    sheet_name='AJONEUVOLUOKKA',\n",
    "    skiprows=6)\n",
    "vehicle_classification.head()"
   ]
  },
  {
   "cell_type": "markdown",
   "id": "2a8c5e02-bca7-4678-af88-a8fd1543f322",
   "metadata": {},
   "source": [
    "### Cars!\n",
    "\n",
    "Based on the vehicle classification metadata, it seems like there's information about lots of different vehicles besides just regular cars. If I am interested in the cars regular people drive (henkilöauto in Finnish), classifications `M1` (cars) and `M1G` (off-road cars) look like good candidates. One could also consider `N1` and `N1G` (vans and off-road vans, respectively).\n",
    "\n",
    "Gotta love those verbose English descriptions!"
   ]
  },
  {
   "cell_type": "code",
   "execution_count": 201,
   "id": "6499674f-2a6f-4bb7-b626-c391ef15f32a",
   "metadata": {},
   "outputs": [
    {
     "data": {
      "text/html": [
       "<div>\n",
       "<style scoped>\n",
       "    .dataframe tbody tr th:only-of-type {\n",
       "        vertical-align: middle;\n",
       "    }\n",
       "\n",
       "    .dataframe tbody tr th {\n",
       "        vertical-align: top;\n",
       "    }\n",
       "\n",
       "    .dataframe thead th {\n",
       "        text-align: right;\n",
       "    }\n",
       "</style>\n",
       "<table border=\"1\" class=\"dataframe\">\n",
       "  <thead>\n",
       "    <tr style=\"text-align: right;\">\n",
       "      <th></th>\n",
       "      <th>KOODINTUNNUS</th>\n",
       "      <th>LYHYTSELITE</th>\n",
       "      <th>PITKASELITE</th>\n",
       "      <th>LYHYTSELITE_sv</th>\n",
       "      <th>PITKASELITE_sv</th>\n",
       "      <th>LYHYTSELITE_en</th>\n",
       "      <th>PITKASELITE_en</th>\n",
       "    </tr>\n",
       "  </thead>\n",
       "  <tbody>\n",
       "    <tr>\n",
       "      <th>19</th>\n",
       "      <td>M1</td>\n",
       "      <td>Henkilöauto</td>\n",
       "      <td>Matkustajien kuljettamiseen valmistettu ajoneu...</td>\n",
       "      <td>Personbil</td>\n",
       "      <td>Ett för persontransport tillverkat fordon med ...</td>\n",
       "      <td>Car</td>\n",
       "      <td>Car</td>\n",
       "    </tr>\n",
       "    <tr>\n",
       "      <th>20</th>\n",
       "      <td>M1G</td>\n",
       "      <td>Henkilöauto</td>\n",
       "      <td>Matkustajien kuljettamiseen valmistettu maasto...</td>\n",
       "      <td>Personbil</td>\n",
       "      <td>En för persontransport tillverkad terrängbil m...</td>\n",
       "      <td>Car</td>\n",
       "      <td>Car</td>\n",
       "    </tr>\n",
       "  </tbody>\n",
       "</table>\n",
       "</div>"
      ],
      "text/plain": [
       "   KOODINTUNNUS  LYHYTSELITE  \\\n",
       "19           M1  Henkilöauto   \n",
       "20          M1G  Henkilöauto   \n",
       "\n",
       "                                          PITKASELITE LYHYTSELITE_sv  \\\n",
       "19  Matkustajien kuljettamiseen valmistettu ajoneu...      Personbil   \n",
       "20  Matkustajien kuljettamiseen valmistettu maasto...      Personbil   \n",
       "\n",
       "                                       PITKASELITE_sv LYHYTSELITE_en  \\\n",
       "19  Ett för persontransport tillverkat fordon med ...            Car   \n",
       "20  En för persontransport tillverkad terrängbil m...            Car   \n",
       "\n",
       "   PITKASELITE_en  \n",
       "19            Car  \n",
       "20            Car  "
      ]
     },
     "execution_count": 201,
     "metadata": {},
     "output_type": "execute_result"
    }
   ],
   "source": [
    "vehicle_classification.query('KOODINTUNNUS.str.startswith(\"M1\")')"
   ]
  },
  {
   "cell_type": "code",
   "execution_count": 202,
   "id": "b6569261-98d2-46a1-9a51-b35aece76230",
   "metadata": {},
   "outputs": [
    {
     "name": "stdout",
     "output_type": "stream",
     "text": [
      "<class 'pandas.core.frame.DataFrame'>\n",
      "Int64Index: 2772248 entries, 2 to 5236786\n",
      "Data columns (total 38 columns):\n",
      " #   Column                     Dtype  \n",
      "---  ------                     -----  \n",
      " 0   ajoneuvoluokka             object \n",
      " 1   ensirekisterointipvm       object \n",
      " 2   ajoneuvoryhma              float64\n",
      " 3   ajoneuvonkaytto            float64\n",
      " 4   variantti                  object \n",
      " 5   versio                     object \n",
      " 6   kayttoonottopvm            int64  \n",
      " 7   vari                       object \n",
      " 8   ovienLukumaara             float64\n",
      " 9   korityyppi                 object \n",
      " 10  ohjaamotyyppi              float64\n",
      " 11  istumapaikkojenLkm         float64\n",
      " 12  omamassa                   float64\n",
      " 13  teknSuurSallKokmassa       float64\n",
      " 14  tieliikSuurSallKokmassa    float64\n",
      " 15  ajonKokPituus              float64\n",
      " 16  ajonLeveys                 float64\n",
      " 17  ajonKorkeus                float64\n",
      " 18  kayttovoima                object \n",
      " 19  iskutilavuus               float64\n",
      " 20  suurinNettoteho            float64\n",
      " 21  sylintereidenLkm           float64\n",
      " 22  ahdin                      object \n",
      " 23  sahkohybridi               object \n",
      " 24  sahkohybridinluokka        float64\n",
      " 25  merkkiSelvakielinen        object \n",
      " 26  mallimerkinta              object \n",
      " 27  vaihteisto                 object \n",
      " 28  vaihteidenLkm              float64\n",
      " 29  kaupallinenNimi            object \n",
      " 30  voimanvalJaTehostamistapa  float64\n",
      " 31  tyyppihyvaksyntanro        object \n",
      " 32  yksittaisKayttovoima       object \n",
      " 33  kunta                      float64\n",
      " 34  Co2                        float64\n",
      " 35  matkamittarilukema         float64\n",
      " 36  valmistenumero2            object \n",
      " 37  jarnro                     int64  \n",
      "dtypes: float64(20), int64(2), object(16)\n",
      "memory usage: 824.9+ MB\n"
     ]
    }
   ],
   "source": [
    "df.query('ajoneuvoluokka.str.startswith(\"M1\")', inplace=True)\n",
    "df.info()"
   ]
  },
  {
   "cell_type": "markdown",
   "id": "5701659c-9d02-424b-8899-4f02baa2c28a",
   "metadata": {},
   "source": [
    "Wow, that still leaves us with almost three million vehicles! I wonder how they are distributed over time? For that I will use `kayttoonottopvm` because it seems compatible with some other numbers based on quick Google sanity check."
   ]
  },
  {
   "cell_type": "code",
   "execution_count": 203,
   "id": "a8b2aa56-ba08-48a9-b99e-dc1e4e3621e3",
   "metadata": {},
   "outputs": [
    {
     "data": {
      "text/plain": [
       "<AxesSubplot:xlabel='first_day_of_use'>"
      ]
     },
     "execution_count": 203,
     "metadata": {},
     "output_type": "execute_result"
    },
    {
     "data": {
      "image/png": "[encoded data removed]",
      "text/plain": [
       "<Figure size 720x432 with 1 Axes>"
      ]
     },
     "metadata": {},
     "output_type": "display_data"
    }
   ],
   "source": [
    "df['first_day_of_use'] = pd.to_datetime(\n",
    "    df['kayttoonottopvm'],\n",
    "    format='%Y%m%d',\n",
    "    errors='coerce')\n",
    "\n",
    "df.resample('Y', on='first_day_of_use').ajoneuvoluokka.count().plot(figsize=(10, 6))"
   ]
  },
  {
   "cell_type": "markdown",
   "id": "ca457480-5d03-4314-b1da-46dd3bd9faf5",
   "metadata": {},
   "source": [
    "Hmm, the latest yearly values of cars seem sensible and agree with the latest news about the number of new cars registered, but I am not sure about the older datapoints. [The documentation](https://www.traficom.fi/sites/default/files/media/file/Avoin%20Data%2010%20kysytyint%C3%A4%20kysymyst%C3%A4.pdf) on Traficom's website reveals that the data only contains vehicles that have not been decommissioned. That might explain things. It's probably better to focus on the last ten years or so for any analysis as the numbers don't exactly match e.g. the ones shown on [the website of Autoalan Tiedotuskeskus](https://www.aut.fi/tilastot/ensirekisteroinnit/ensirekisterointien_vuosittainen_kehitys) even though they are in the right ballpark."
   ]
  },
  {
   "cell_type": "markdown",
   "id": "0b9ab187-3865-4ccc-916c-195a6ccc0cf0",
   "metadata": {
    "tags": []
   },
   "source": [
    "### What's the most popular car brand in Finland?\n",
    "\n",
    "There's a gazilliong things you could dig out of this dataset but let's just pick one thing here: In the last ten years or so, what are the most popular car brands in Finland?\n",
    "\n",
    "As a first step, let's look at the 30 most popular brands from 2010 onwards:"
   ]
  },
  {
   "cell_type": "code",
   "execution_count": 204,
   "id": "a0acaf6f-c395-4575-927a-d93f78eda189",
   "metadata": {},
   "outputs": [
    {
     "data": {
      "text/plain": [
       "Toyota            174487\n",
       "Volvo             122651\n",
       "Skoda             121543\n",
       "Volkswagen, VW    120403\n",
       "Mercedes-Benz     108587\n",
       "Ford              100140\n",
       "BMW                79618\n",
       "Kia                79095\n",
       "Audi               75403\n",
       "Nissan             73693\n",
       "Opel               59574\n",
       "Volkswagen         49822\n",
       "Hyundai            40568\n",
       "Peugeot            34295\n",
       "Renault            28302\n",
       "Honda              27353\n",
       "Citroen            25814\n",
       "Seat               22952\n",
       "Mitsubishi         22306\n",
       "Mazda              20283\n",
       "Subaru             11817\n",
       "Suzuki             11708\n",
       "Dacia              11635\n",
       "Tesla               6697\n",
       "Fiat                6289\n",
       "Lexus               5180\n",
       "Chevrolet           4848\n",
       "Mini                4128\n",
       "Porsche             3873\n",
       "Land Rover          3455\n",
       "Name: merkkiSelvakielinen, dtype: int64"
      ]
     },
     "execution_count": 204,
     "metadata": {},
     "output_type": "execute_result"
    }
   ],
   "source": [
    "df.query('first_day_of_use > \"2009-12-31\"')['merkkiSelvakielinen'].value_counts().head(30)"
   ]
  },
  {
   "cell_type": "markdown",
   "id": "19aa7183-c240-4c2f-8df3-06897c2b8712",
   "metadata": {},
   "source": [
    "Makes sort of sense, Toyota is popular here... but wait! Why do we have both `Volkswagen, VW` and `Volkswagen` in there? Well, as they say, 90% of data science work is cleaning data, and we are not even doing that much data science here. There's probably more dirty data beneath the surface but let's just clean this Volkswagen part:"
   ]
  },
  {
   "cell_type": "code",
   "execution_count": 205,
   "id": "5252c0ff-d521-42a1-bbb3-2f99f8cc2afc",
   "metadata": {},
   "outputs": [
    {
     "data": {
      "text/plain": [
       "Toyota           174487\n",
       "Volkswagen       170225\n",
       "Volvo            122651\n",
       "Skoda            121543\n",
       "Mercedes-Benz    108587\n",
       "Name: merkkiSelvakielinen, dtype: int64"
      ]
     },
     "execution_count": 205,
     "metadata": {},
     "output_type": "execute_result"
    }
   ],
   "source": [
    "df['merkkiSelvakielinen'].replace({'Volkswagen, VW': 'Volkswagen'}, inplace=True)\n",
    "df.query('first_day_of_use > \"2009-12-31\"')['merkkiSelvakielinen'].value_counts().head(5)"
   ]
  },
  {
   "cell_type": "markdown",
   "id": "f8185b1d-1184-46f5-87bc-edcd214727a2",
   "metadata": {},
   "source": [
    "Seems like that did the trick. Now it's a red hot race between Toyota and Volkswagen, a real nail-biter! Let's look at how the \"market shares\" of the top 9 brands have evolved in the recent years.\n",
    "\n",
    "Probably there would be an easier way to do this with e.g. Seaborn but let's hack the [small multiple](https://en.wikipedia.org/wiki/Small_multiple) plot with just Matplotlib. Pardon for the aggressive chaining of Pandas methods!"
   ]
  },
  {
   "cell_type": "code",
   "execution_count": 217,
   "id": "1946927a-2b5a-4cd0-a0cd-b9326bb35603",
   "metadata": {},
   "outputs": [
    {
     "data": {
      "image/png": "[encoded data removed]",
      "text/plain": [
       "<Figure size 1080x504 with 9 Axes>"
      ]
     },
     "metadata": {},
     "output_type": "display_data"
    }
   ],
   "source": [
    "brands_to_include = [\n",
    "    'Toyota',\n",
    "    'Volkswagen',\n",
    "    'Volvo',\n",
    "    'Skoda',\n",
    "    'Mercedes-Benz',\n",
    "    'Ford',\n",
    "    'BMW',\n",
    "    'Kia',\n",
    "    'Audi',\n",
    "]\n",
    "\n",
    "# Filter in only the data we want\n",
    "df_pivot = (\n",
    "    df\n",
    "    .query('first_day_of_use > \"2009-12-31\"')\n",
    "    .query('first_day_of_use < \"2022-01-01\"') # Include only full years\n",
    ")\n",
    "\n",
    "# Groupby, aggregate count of rows, and pivot\n",
    "df_pivot = (\n",
    "    df_pivot\n",
    "    .groupby(\n",
    "        [df_pivot.first_day_of_use.dt.year, df_pivot.merkkiSelvakielinen],\n",
    "        as_index=True)['ajoneuvoluokka']\n",
    "    .count()\n",
    "    .reset_index()\n",
    "    .pivot(\n",
    "        index='first_day_of_use',\n",
    "        columns='merkkiSelvakielinen', \n",
    "        values='ajoneuvoluokka')\n",
    "    .fillna(0)\n",
    ")\n",
    "\n",
    "# Normalize monthly values\n",
    "df_pivot = df_pivot.divide(df_pivot.sum(axis=1), axis=0)\n",
    "\n",
    "# Plot small multiples\n",
    "fig, ax = plt.subplots(3, 3, figsize=(15, 7), sharex=True, sharey=True)\n",
    "for ix, col in enumerate(brands_to_include):\n",
    "    plt.subplot(3, 3, ix+1)\n",
    "    df_pivot[col].plot(color='k', linewidth=1.5)\n",
    "    plt.title(col, loc='left')\n",
    "\n",
    "_ = plt.suptitle('Finnish market share by car brand')"
   ]
  },
  {
   "cell_type": "markdown",
   "id": "b14b25bf-ef18-4437-9054-0ce0d0460478",
   "metadata": {},
   "source": [
    "One could argue the following trends based on the data:\n",
    "- Volkswagen is declining steadily, although Skoda from the same conglomerate has been going up until 2021.\n",
    "- Kia has been increasing their market share in the recent years. This makes sense if you have been reading the headlines on the car market in Finland.\n",
    "- Toyota has been increasing their market share in the recent years. Toyota has always been a popular and respectable choice for a family car in Finland, and perhaps their investments in the hybrid technology are paying off? "
   ]
  },
  {
   "cell_type": "markdown",
   "id": "bc48daaf-cdf0-411f-bf98-42ad95ce3351",
   "metadata": {
    "tags": []
   },
   "source": [
    "###  What could be next?\n",
    "\n",
    "I will stop here with this toy analysis, but there are some more interesting but also more laborious questions that you could try to answer based on this dataset. For example:\n",
    "- Do Finns buy (or at least register) more electric or hybrid cars? The data has information about this in the columns `kayttovoima`, `sahkohybridi`, and `sahkohybridinluokka` but a quick glance indicates that they would require some cleaning.\n",
    "- Have the cars got cleaner over time, i.e. do they emit less CO2 emissions? There's the `Co2` column in the data that could be used here.\n",
    "- If they have got cleaner, is that on the expense of performance? I think `suurinNettoteho` would be helpful here.\n",
    "\n",
    "If you got this far, why not go ahead and [watch the music video for Gary Numan's Cars](https://www.youtube.com/watch?v=Im3JzxlatUs)?"
   ]
  }
 ],
 "metadata": {
  "kernelspec": {
   "display_name": "3.10.2",
   "language": "python",
   "name": "3.10.2"
  },
  "language_info": {
   "codemirror_mode": {
    "name": "ipython",
    "version": 3
   },
   "file_extension": ".py",
   "mimetype": "text/x-python",
   "name": "python",
   "nbconvert_exporter": "python",
   "pygments_lexer": "ipython3",
   "version": "3.10.2"
  }
 },
 "nbformat": 4,
 "nbformat_minor": 5
}
